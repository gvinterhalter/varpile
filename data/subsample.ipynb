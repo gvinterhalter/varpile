{
 "cells": [
  {
   "metadata": {},
   "cell_type": "markdown",
   "source": "# Generate data by subsampling source vcfs",
   "id": "49599a1b87087677"
  },
  {
   "cell_type": "code",
   "id": "initial_id",
   "metadata": {
    "collapsed": true,
    "ExecuteTime": {
     "end_time": "2025-03-06T12:29:07.384514Z",
     "start_time": "2025-03-06T12:29:07.363610Z"
    }
   },
   "source": [
    "from pathlib import Path\n",
    "import data\n",
    "import random\n",
    "import pysam"
   ],
   "outputs": [],
   "execution_count": 1
  },
  {
   "metadata": {},
   "cell_type": "markdown",
   "source": [
    "## Choose the source file\n",
    "This is the file we will subsample"
   ],
   "id": "ae6083c0c7d86d03"
  },
  {
   "metadata": {
    "ExecuteTime": {
     "end_time": "2025-03-06T15:56:26.116787Z",
     "start_time": "2025-03-06T15:56:26.069470Z"
    }
   },
   "cell_type": "code",
   "source": [
    "in_file = data.xy_vcf\n",
    "base_name = in_file.name.split(\".\")[0] # \"xy\" or \"xx\"\n",
    "f = pysam.VariantFile(in_file)"
   ],
   "id": "e48374a6e7146d1d",
   "outputs": [
    {
     "name": "stderr",
     "output_type": "stream",
     "text": [
      "[W::hts_idx_load3] The index file is older than the data file: /Users/vinter/projects/WINGS/varpile/data/source/xy.vcf.gz.tbi\n"
     ]
    }
   ],
   "execution_count": 75
  },
  {
   "metadata": {},
   "cell_type": "markdown",
   "source": [
    "## Template header\n",
    "\n",
    "make the tempalte header based on the source file.\n",
    "We want to limit the number of chromosomes as well.\n",
    "This header does not have a sample attahced to it"
   ],
   "id": "2cf67efa9547ee7d"
  },
  {
   "metadata": {
    "ExecuteTime": {
     "end_time": "2025-03-06T15:51:00.069003Z",
     "start_time": "2025-03-06T15:51:00.062928Z"
    }
   },
   "cell_type": "code",
   "source": [
    "# contigs_to_keep = [f\"chr{i}\" for i in range(1, 23)] + [\"chrX\", \"chrY\", \"chrM\"] # all human chromosomes\n",
    "contigs_to_keep =  [\"chr21\", \"chr22\", \"chrX\", \"chrY\", \"chrM\"]\n",
    "\n",
    "# create a header template\n",
    "header_template = pysam.VariantHeader()\n",
    "for record in f.header.records:\n",
    "    if record.type == \"CONTIG\":\n",
    "        if record.get(\"ID\") not in contigs_to_keep:\n",
    "            continue\n",
    "\n",
    "    header_template.add_record(record)"
   ],
   "id": "1046459cf9f51be5",
   "outputs": [],
   "execution_count": 65
  },
  {
   "metadata": {
    "ExecuteTime": {
     "end_time": "2025-03-06T15:07:31.562081Z",
     "start_time": "2025-03-06T15:07:31.559349Z"
    }
   },
   "cell_type": "code",
   "source": [
    "def write_header(out_path: Path | str, header_template: pysam.VariantHeader, sample_name: str):\n",
    "    \"\"\"Helper function Creates the file from the tempalte header.\"\"\"\n",
    "    header = header_template.copy()\n",
    "    header.add_sample(sample_name)\n",
    "    with open(out_path, \"w\") as out:\n",
    "        out.write(str(header))\n"
   ],
   "id": "9103397d54898953",
   "outputs": [],
   "execution_count": 16
  },
  {
   "metadata": {
    "ExecuteTime": {
     "end_time": "2025-03-06T15:07:34.079516Z",
     "start_time": "2025-03-06T15:07:34.076381Z"
    }
   },
   "cell_type": "code",
   "source": [
    "def subsample(records, sample_size):\n",
    "    elements = [(i, x) for i, x in enumerate(records)]\n",
    "    elements = random.sample(elements, sample_size)\n",
    "    elements = sorted(elements, key=lambda x: x[0])\n",
    "    return [x[1] for x in elements]"
   ],
   "id": "4b9146dc97cf8b63",
   "outputs": [],
   "execution_count": 17
  },
  {
   "metadata": {},
   "cell_type": "markdown",
   "source": [
    "## Write the files\n",
    "\n"
   ],
   "id": "b3b492e37c99c63b"
  },
  {
   "metadata": {},
   "cell_type": "code",
   "outputs": [],
   "execution_count": null,
   "source": "",
   "id": "9f6084b17d34f63c"
  },
  {
   "metadata": {
    "ExecuteTime": {
     "end_time": "2025-03-07T14:20:01.832129Z",
     "start_time": "2025-03-07T14:19:59.812509Z"
    }
   },
   "cell_type": "code",
   "source": [
    "random.seed(42)  #For the sake of reproducibility\n",
    "number_of_files = 10\n",
    "percentage = 0.25 # 10 % of variants per chromosome\n",
    "\n",
    "sample_names = [f\"{base_name}_sample_{i}\" for i in range(1, number_of_files + 1)]\n",
    "out_files = {name: data.vcfs / f\"{name}.vcf\" for name in sample_names}\n",
    "\n",
    "# Generate files with header\n",
    "for name, vcf_path in out_files.items():\n",
    "    write_header(vcf_path, header_template, name)\n",
    "\n",
    "print(f.filename)\n",
    "\n",
    "# Populate files, one contig at a time\n",
    "for contig in contigs_to_keep:\n",
    "    # collect variants:\n",
    "    records = list(f.fetch(contig))[:100_000] # 100K variants\n",
    "\n",
    "    # per file subsample the records for given chromosome and write to the file\n",
    "    for name, vcf_path in out_files.items():\n",
    "        with vcf_path.open(\"a\") as out:\n",
    "            # Calc the sample size\n",
    "            sample_size = int(len(records) * percentage)\n",
    "            if sample_size < 5:\n",
    "                sample_size = min(5, len(records)) # if low number of variants try to get at least 5\n",
    "            sampled_records = subsample(records, sample_size)\n",
    "            for record in sampled_records:\n",
    "                out.write(str(record))"
   ],
   "id": "956581f80d90eba",
   "outputs": [
    {
     "name": "stdout",
     "output_type": "stream",
     "text": [
      "b'/Users/vinter/projects/WINGS/varpile/data/source/xy.vcf.gz'\n"
     ]
    }
   ],
   "execution_count": 79
  },
  {
   "metadata": {
    "ExecuteTime": {
     "end_time": "2025-03-06T15:57:11.711739Z",
     "start_time": "2025-03-06T15:57:07.097758Z"
    }
   },
   "cell_type": "code",
   "source": [
    "%%sh\n",
    "# bgzip and index all .vcf files\n",
    "find vcfs/*.vcf -exec bgzip -kf {} \\; -exec bcftools index --tbi {}.gz \\;"
   ],
   "id": "afe70fbcc9dc7ecf",
   "outputs": [],
   "execution_count": 77
  },
  {
   "metadata": {},
   "cell_type": "markdown",
   "source": "# Make multisample vcf\n",
   "id": "3d3eb54088c82597"
  },
  {
   "metadata": {
    "ExecuteTime": {
     "end_time": "2025-03-06T15:53:59.386556Z",
     "start_time": "2025-03-06T15:53:59.341590Z"
    }
   },
   "cell_type": "code",
   "source": [
    "%%sh\n",
    "bcftools merge vcfs/xx_sample_1.vcf.gz vcfs/xy_sample_1.vcf.gz > vcfs/merged.vcf\n",
    "find vcfs/merged.vcf -exec bgzip -kf {} \\; -exec bcftools index --tbi {}.gz \\;"
   ],
   "id": "f608b4ebc5c51e60",
   "outputs": [
    {
     "name": "stderr",
     "output_type": "stream",
     "text": [
      "[E::hts_open_format] Failed to open file \"vcfs/xx_sample_1.vcf.gz\" : No such file or directory\n",
      "Failed to open vcfs/xx_sample_1.vcf.gz: No such file or directory\n",
      "index: \"vcfs/merged.vcf.gz\" is in a format that cannot be usefully indexed\n"
     ]
    }
   ],
   "execution_count": 68
  },
  {
   "metadata": {},
   "cell_type": "markdown",
   "source": "## Cleanup",
   "id": "19ab46b1a58ea4f2"
  },
  {
   "metadata": {
    "ExecuteTime": {
     "end_time": "2025-03-07T14:20:22.771652Z",
     "start_time": "2025-03-07T14:20:22.743596Z"
    }
   },
   "cell_type": "code",
   "source": [
    "%%sh\n",
    "rm vcfs/*.vcf"
   ],
   "id": "d10c958664831d3d",
   "outputs": [],
   "execution_count": 80
  }
 ],
 "metadata": {
  "kernelspec": {
   "display_name": "Python 3",
   "language": "python",
   "name": "python3"
  },
  "language_info": {
   "codemirror_mode": {
    "name": "ipython",
    "version": 2
   },
   "file_extension": ".py",
   "mimetype": "text/x-python",
   "name": "python",
   "nbconvert_exporter": "python",
   "pygments_lexer": "ipython2",
   "version": "2.7.6"
  }
 },
 "nbformat": 4,
 "nbformat_minor": 5
}
