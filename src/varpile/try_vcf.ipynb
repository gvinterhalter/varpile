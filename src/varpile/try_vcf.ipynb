{
 "cells": [
  {
   "metadata": {},
   "cell_type": "code",
   "source": [
    "import duckdb\n",
    "from pathlib import Path\n",
    "\n",
    "from varpile import process_chromosome\n"
   ],
   "id": "ddecdaaabb76898e",
   "outputs": [],
   "execution_count": null
  },
  {
   "metadata": {},
   "cell_type": "code",
   "source": [
    "file_path = Path(\"/Users/vinter/data/geert/GC138853-i.vqsr_filtered.vcf.gz\")\n",
    "out_path = file_path.with_name(file_path.name.rstrip(\".vcf.gz\"))"
   ],
   "id": "7507f3e353bb055d",
   "outputs": [],
   "execution_count": null
  },
  {
   "metadata": {},
   "cell_type": "code",
   "source": [
    "%%bash\n",
    "time python allele_counts.py"
   ],
   "id": "bdb3c81002df7bcf",
   "outputs": [],
   "execution_count": null
  },
  {
   "metadata": {},
   "cell_type": "code",
   "source": [
    "%%time\n",
    "%run allele_counts\n",
    "process_chromosome(file_path, out_path, \"chr1\")"
   ],
   "id": "e9122be8207de06",
   "outputs": [],
   "execution_count": null
  },
  {
   "metadata": {},
   "cell_type": "markdown",
   "source": [
    "- with Parsing:  9.5 s\n",
    "- with iter_allele: 16.2 s\n",
    "- with data.txt output: 18 s\n",
    "- parquet conversion is 1.5s\n",
    "- with parquet conversion: 21 s\n",
    "- 10 threads (per chromosome): 5s\n",
    "\n",
    "Alternatively\n",
    "- bcftools query -f '%CHROM %POS %REF %ALT [%GT]' : 19.2 s\n",
    "\n",
    "Size:\n",
    "- data.txt: 99M\n",
    "- data.parquet snappy: 38M \n",
    "- data.parquet GZIP: 22M\n",
    "- data.parquet ZSTD: 26M\n",
    "\n",
    "\n",
    "AGGREGATE chr1 benchmark\n",
    "- 10 GB data (3 duplicated files, each roughly 3Mb): 36.5s\n",
    "- 10 GB data (3 duplicated files, each roughly 3Mb), mem_limit = 2GB: 1m 28s\n"
   ],
   "id": "16fb1ad4733cc09e"
  },
  {
   "metadata": {},
   "cell_type": "markdown",
   "source": "## 1. Create temporary parquet files",
   "id": "926e52e801d87983"
  },
  {
   "metadata": {},
   "cell_type": "code",
   "source": [
    "%run allele_counts # import allel_counts code\n",
    "\n",
    "#input_dir = Path(\"/Users/vinter/data/geert/\")\n",
    "input_dir = Path(\"/Users/vinter/MyData/test_data/\")\n",
    "input_files = list(input_dir.glob(\"*.vcf.gz\")) # list of input files\n",
    "# tmp_dir is for temporary parquet files\n",
    "tmp_dir = input_dir / \"tmp\"\n",
    "\n",
    "# Convert input files to temporary files (per chromosomes)\n",
    "chromosome = \"chr1\"\n",
    "for input_file in input_files:\n",
    "    name = input_file.name.rstrip(\"vcf.gz\") + \".parquet\"\n",
    "    process_chromosome(input_file, tmp_dir / name, chromosome)\n",
    "\n",
    "duckdb.read_parquet(f\"{tmp_dir}/**/*.parquet\").limit(4)"
   ],
   "id": "1a423e0dde4ecd52",
   "outputs": [],
   "execution_count": null
  },
  {
   "metadata": {},
   "cell_type": "markdown",
   "source": "## 2. Merge temporary parquet files",
   "id": "fd2d5fec151ea535"
  },
  {
   "metadata": {},
   "cell_type": "code",
   "source": [
    "%%time\n",
    "duckdb.query(f\"\"\"\n",
    "    select\n",
    "    pos, ref, alt,\n",
    "    sum(case AC when DP > 10 then AC else 0 end)::int AC,\n",
    "    sum(case AC_hom when DP > 10 then AC_hom else 0 end)::int AC_hom,\n",
    "    sum(case AC_hemi when DP > 10 then AC_hemi else 0 end)::int AC_hemi,\n",
    "    -- DP stat counts\n",
    "    count(*)::int n_samples,  -- number of samples\n",
    "    sum(DP)::double DP_sum,\n",
    "    sum(DP**2)::double DP2_sum,\n",
    "    -- array_agg(DP) DPs, -- for debug\n",
    "    from read_parquet('{tmp_dir}/*/chromosome=chr1/*.parquet', hive_partitioning = false)\n",
    "    group by *\n",
    "    order by pos, ref, alt\n",
    "\"\"\").write_parquet(f'{tmp_dir}/chr1.parquet')"
   ],
   "id": "437dcfd1d8de4ba2",
   "outputs": [],
   "execution_count": null
  },
  {
   "metadata": {},
   "cell_type": "markdown",
   "source": "## 3. Calculate mean and standard deviation using n_samples, DP_sum and DP2_sum",
   "id": "1dc264675e81831d"
  },
  {
   "metadata": {},
   "cell_type": "code",
   "source": [
    "rel = duckdb.read_parquet(f'{tmp_dir}/chr1.parquet')\n",
    "duckdb.query(\"\"\"\n",
    "select\n",
    " * exclude (DP_sum, DP2_sum),\n",
    " (DP_sum/n_samples) as DP_mean,\n",
    " sqrt((DP2_sum - 2*DP_mean*DP_sum + n_samples*(DP_mean**2)) / n_samples)  as DP_std,\n",
    " from rel\n",
    "\"\"\").limit(100).df()"
   ],
   "id": "aff65a6b074acee1",
   "outputs": [],
   "execution_count": null
  }
 ],
 "metadata": {
  "kernelspec": {
   "display_name": "Python 3",
   "language": "python",
   "name": "python3"
  },
  "language_info": {
   "codemirror_mode": {
    "name": "ipython",
    "version": 2
   },
   "file_extension": ".py",
   "mimetype": "text/x-python",
   "name": "python",
   "nbconvert_exporter": "python",
   "pygments_lexer": "ipython2",
   "version": "2.7.6"
  }
 },
 "nbformat": 4,
 "nbformat_minor": 5
}
